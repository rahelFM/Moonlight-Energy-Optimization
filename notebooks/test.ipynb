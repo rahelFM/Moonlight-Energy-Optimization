{
 "cells": [
  {
   "cell_type": "code",
   "execution_count": null,
   "id": "ffdc65f6",
   "metadata": {
    "vscode": {
     "languageId": "plaintext"
    }
   },
   "outputs": [],
   "source": [
    "print(\"hello world\")"
   ]
  }
 ],
 "metadata": {
  "language_info": {
   "name": "python"
  }
 },
 "nbformat": 4,
 "nbformat_minor": 5
}
