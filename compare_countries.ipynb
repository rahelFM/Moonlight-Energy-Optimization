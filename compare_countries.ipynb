{
  "nbformat": 4,
  "nbformat_minor": 0,
  "metadata": {
    "colab": {
      "provenance": [],
      "authorship_tag": "ABX9TyPakPrbdPFoh/TP+pkBfbo6",
      "include_colab_link": true
    },
    "kernelspec": {
      "name": "python3",
      "display_name": "Python 3"
    },
    "language_info": {
      "name": "python"
    }
  },
  "cells": [
    {
      "cell_type": "markdown",
      "metadata": {
        "id": "view-in-github",
        "colab_type": "text"
      },
      "source": [
        "<a href=\"https://colab.research.google.com/github/rahelFM/Moonlight-Energy-Optimization/blob/main/compare_countries.ipynb\" target=\"_parent\"><img src=\"https://colab.research.google.com/assets/colab-badge.svg\" alt=\"Open In Colab\"/></a>"
      ]
    },
    {
      "cell_type": "code",
      "execution_count": 76,
      "metadata": {
        "id": "kQ0hiCVDxWvu"
      },
      "outputs": [],
      "source": [
        "import pandas as pd\n",
        "import numpy as np\n",
        "from scipy.stats import zscore\n",
        "import matplotlib.pyplot as plt\n",
        "import seaborn as sns"
      ]
    },
    {
      "cell_type": "code",
      "source": [
        "# Load benin data\n",
        "df_benin = pd.read_csv('/content/benin-malanville.csv')"
      ],
      "metadata": {
        "id": "P94389eVxuLH"
      },
      "execution_count": 77,
      "outputs": []
    },
    {
      "cell_type": "code",
      "source": [
        "# Z-score outlier detection\n",
        "from scipy.stats import zscore\n",
        "\n",
        "columns_to_check = ['GHI', 'DNI', 'DHI', 'ModA', 'ModB', 'WS', 'WSgust']\n",
        "# Ensure that columns_to_check only contains columns that are actually present in the DataFrame\n",
        "columns_to_check_existing = [col for col in columns_to_check if col in df.columns]\n",
        "\n",
        "# Apply zscore only to existing columns\n",
        "z_scores = df_benin[columns_to_check_existing].apply(zscore)\n",
        "\n",
        "# Filter the DataFrame based on z-scores, only using the columns that were checked\n",
        "df_benin_clean = df_benin[(np.abs(z_scores) <= 3).all(axis=1)]"
      ],
      "metadata": {
        "id": "Sdeuf9Ngxyp-"
      },
      "execution_count": 78,
      "outputs": []
    },
    {
      "cell_type": "code",
      "source": [
        " #Impute missing values (median for numeric)\n",
        "df_benin_clean.fillna(df_benin_clean.median(numeric_only=True), inplace=True)"
      ],
      "metadata": {
        "colab": {
          "base_uri": "https://localhost:8080/"
        },
        "id": "7wPlmdz6x58P",
        "outputId": "c0568729-1e10-4f76-8214-1a639a26e285"
      },
      "execution_count": 79,
      "outputs": [
        {
          "output_type": "stream",
          "name": "stderr",
          "text": [
            "<ipython-input-79-f4e6f813807e>:2: SettingWithCopyWarning: \n",
            "A value is trying to be set on a copy of a slice from a DataFrame\n",
            "\n",
            "See the caveats in the documentation: https://pandas.pydata.org/pandas-docs/stable/user_guide/indexing.html#returning-a-view-versus-a-copy\n",
            "  df_benin_clean.fillna(df_benin_clean.median(numeric_only=True), inplace=True)\n"
          ]
        }
      ]
    },
    {
      "cell_type": "code",
      "source": [
        "import os\n",
        "if not os.path.exists('content'):\n",
        "    os.makedirs('content')\n",
        "\n",
        "#Export cleaned file\n",
        "df_benin_clean.to_csv('content/benin_clean.csv', index=False)"
      ],
      "metadata": {
        "id": "hHXIU21Uy3Lf"
      },
      "execution_count": 80,
      "outputs": []
    },
    {
      "cell_type": "code",
      "source": [
        "# Load togo data\n",
        "df_togo = pd.read_csv('/content/togo-dapaong_qc.csv')"
      ],
      "metadata": {
        "id": "thinhzjHy6dJ"
      },
      "execution_count": 81,
      "outputs": []
    },
    {
      "source": [
        "# Z-score outlier detection\n",
        "from scipy.stats import zscore\n",
        "\n",
        "columns_to_check = ['GHI', 'DNI', 'DHI', 'ModA', 'ModB', 'WS', 'WSgust']\n",
        "columns_to_check_existing = [col for col in columns_to_check if col in df_togo.columns]\n",
        "\n",
        "z_scores = df_togo[columns_to_check_existing].apply(zscore)\n",
        "\n",
        "df_togo_clean = df_togo[(np.abs(z_scores) <= 3).all(axis=1)]"
      ],
      "cell_type": "code",
      "metadata": {
        "id": "ezn5FMvp21kA"
      },
      "execution_count": 82,
      "outputs": []
    },
    {
      "cell_type": "code",
      "source": [
        " #Impute missing values (median for numeric)\n",
        "df_togo_clean.fillna(df_togo_clean.median(numeric_only=True), inplace=True)"
      ],
      "metadata": {
        "colab": {
          "base_uri": "https://localhost:8080/"
        },
        "id": "eTHG3mZY0Q7y",
        "outputId": "bdb41cb1-1b4e-4835-a9c0-6e8f46912f29"
      },
      "execution_count": 83,
      "outputs": [
        {
          "output_type": "stream",
          "name": "stderr",
          "text": [
            "<ipython-input-83-f97680829745>:2: SettingWithCopyWarning: \n",
            "A value is trying to be set on a copy of a slice from a DataFrame\n",
            "\n",
            "See the caveats in the documentation: https://pandas.pydata.org/pandas-docs/stable/user_guide/indexing.html#returning-a-view-versus-a-copy\n",
            "  df_togo_clean.fillna(df_togo_clean.median(numeric_only=True), inplace=True)\n"
          ]
        }
      ]
    },
    {
      "cell_type": "code",
      "source": [
        "#Export cleaned file\n",
        "df_togo_clean.to_csv('content/togo_clean.csv', index=False)"
      ],
      "metadata": {
        "id": "7JDYoS840cHH"
      },
      "execution_count": 84,
      "outputs": []
    },
    {
      "cell_type": "code",
      "source": [
        "# Load serrealeone data\n",
        "df_serrealeone = pd.read_csv('/content/sierraleone-bumbuna.csv')"
      ],
      "metadata": {
        "id": "0FSGmZbo0lRM"
      },
      "execution_count": 85,
      "outputs": []
    },
    {
      "cell_type": "code",
      "source": [
        "# Z-score outlier detection\n",
        "from scipy.stats import zscore\n",
        "\n",
        "columns_to_check = ['GHI', 'DNI', 'DHI', 'ModA', 'ModB', 'WS', 'WSgust']\n",
        "columns_to_check_existing = [col for col in columns_to_check if col in df_serrealeone.columns]\n",
        "\n",
        "z_scores = df_serrealeone[columns_to_check_existing].apply(zscore)\n",
        "\n",
        "df_serrealeone_clean = df_serrealeone[(np.abs(z_scores) <= 3).all(axis=1)]"
      ],
      "metadata": {
        "id": "rA-B4zho0wVe"
      },
      "execution_count": 86,
      "outputs": []
    },
    {
      "cell_type": "code",
      "source": [
        " #Impute missing values (median for numeric)\n",
        "df_serrealeone_clean.fillna(df_serrealeone_clean.median(numeric_only=True), inplace=True)"
      ],
      "metadata": {
        "colab": {
          "base_uri": "https://localhost:8080/"
        },
        "id": "Wmf35sRo0_mi",
        "outputId": "f6265470-e421-465d-ad42-7380a76b4fb2"
      },
      "execution_count": 87,
      "outputs": [
        {
          "output_type": "stream",
          "name": "stderr",
          "text": [
            "<ipython-input-87-42a2693d171b>:2: SettingWithCopyWarning: \n",
            "A value is trying to be set on a copy of a slice from a DataFrame\n",
            "\n",
            "See the caveats in the documentation: https://pandas.pydata.org/pandas-docs/stable/user_guide/indexing.html#returning-a-view-versus-a-copy\n",
            "  df_serrealeone_clean.fillna(df_serrealeone_clean.median(numeric_only=True), inplace=True)\n"
          ]
        }
      ]
    },
    {
      "cell_type": "code",
      "source": [
        "#Export cleaned file\n",
        "df_serrealeone_clean.to_csv('content/serrealeone_clean.csv', index=False)"
      ],
      "metadata": {
        "id": "VsBSgMgw1SlA"
      },
      "execution_count": 88,
      "outputs": []
    },
    {
      "cell_type": "code",
      "source": [
        "# Load Cleaned Datasets\n",
        "benin_df = pd.read_csv('/content/benin-malanville.csv')\n",
        "togo_df = pd.read_csv('/content/togo-dapaong_qc.csv')\n",
        "sl_df = pd.read_csv('/content/sierraleone-bumbuna.csv')"
      ],
      "metadata": {
        "id": "vCn6QwNa1qSK"
      },
      "execution_count": 89,
      "outputs": []
    },
    {
      "cell_type": "code",
      "source": [
        "# Add country labels\n",
        "benin_df['Country'] = 'Benin'\n",
        "togo_df['Country'] = 'Togo'\n",
        "sl_df['Country'] = 'Sierra Leone'"
      ],
      "metadata": {
        "id": "i5Xjf_H53Q-6"
      },
      "execution_count": 90,
      "outputs": []
    },
    {
      "cell_type": "code",
      "source": [
        "# Concatenate all\n",
        "df_all = pd.concat([benin_df, togo_df, sl_df], ignore_index=True)"
      ],
      "metadata": {
        "id": "0S2WjLmQ5YsW"
      },
      "execution_count": 91,
      "outputs": []
    },
    {
      "cell_type": "code",
      "source": [
        "# Preview\n",
        "df_all[['Timestamp', 'Country', 'GHI', 'DNI', 'DHI']].head()"
      ],
      "metadata": {
        "colab": {
          "base_uri": "https://localhost:8080/",
          "height": 206
        },
        "id": "nj1rdgBM5fXs",
        "outputId": "13761280-2a2e-4f0d-ca40-d5b307aa4dc5"
      },
      "execution_count": 92,
      "outputs": [
        {
          "output_type": "execute_result",
          "data": {
            "text/plain": [
              "          Timestamp Country  GHI  DNI  DHI\n",
              "0  2021-08-09 00:01   Benin -1.2 -0.2 -1.1\n",
              "1  2021-08-09 00:02   Benin -1.1 -0.2 -1.1\n",
              "2  2021-08-09 00:03   Benin -1.1 -0.2 -1.1\n",
              "3  2021-08-09 00:04   Benin -1.1 -0.1 -1.0\n",
              "4  2021-08-09 00:05   Benin -1.0 -0.1 -1.0"
            ],
            "text/html": [
              "\n",
              "  <div id=\"df-c155e9e9-3e28-437c-951d-27a938958640\" class=\"colab-df-container\">\n",
              "    <div>\n",
              "<style scoped>\n",
              "    .dataframe tbody tr th:only-of-type {\n",
              "        vertical-align: middle;\n",
              "    }\n",
              "\n",
              "    .dataframe tbody tr th {\n",
              "        vertical-align: top;\n",
              "    }\n",
              "\n",
              "    .dataframe thead th {\n",
              "        text-align: right;\n",
              "    }\n",
              "</style>\n",
              "<table border=\"1\" class=\"dataframe\">\n",
              "  <thead>\n",
              "    <tr style=\"text-align: right;\">\n",
              "      <th></th>\n",
              "      <th>Timestamp</th>\n",
              "      <th>Country</th>\n",
              "      <th>GHI</th>\n",
              "      <th>DNI</th>\n",
              "      <th>DHI</th>\n",
              "    </tr>\n",
              "  </thead>\n",
              "  <tbody>\n",
              "    <tr>\n",
              "      <th>0</th>\n",
              "      <td>2021-08-09 00:01</td>\n",
              "      <td>Benin</td>\n",
              "      <td>-1.2</td>\n",
              "      <td>-0.2</td>\n",
              "      <td>-1.1</td>\n",
              "    </tr>\n",
              "    <tr>\n",
              "      <th>1</th>\n",
              "      <td>2021-08-09 00:02</td>\n",
              "      <td>Benin</td>\n",
              "      <td>-1.1</td>\n",
              "      <td>-0.2</td>\n",
              "      <td>-1.1</td>\n",
              "    </tr>\n",
              "    <tr>\n",
              "      <th>2</th>\n",
              "      <td>2021-08-09 00:03</td>\n",
              "      <td>Benin</td>\n",
              "      <td>-1.1</td>\n",
              "      <td>-0.2</td>\n",
              "      <td>-1.1</td>\n",
              "    </tr>\n",
              "    <tr>\n",
              "      <th>3</th>\n",
              "      <td>2021-08-09 00:04</td>\n",
              "      <td>Benin</td>\n",
              "      <td>-1.1</td>\n",
              "      <td>-0.1</td>\n",
              "      <td>-1.0</td>\n",
              "    </tr>\n",
              "    <tr>\n",
              "      <th>4</th>\n",
              "      <td>2021-08-09 00:05</td>\n",
              "      <td>Benin</td>\n",
              "      <td>-1.0</td>\n",
              "      <td>-0.1</td>\n",
              "      <td>-1.0</td>\n",
              "    </tr>\n",
              "  </tbody>\n",
              "</table>\n",
              "</div>\n",
              "    <div class=\"colab-df-buttons\">\n",
              "\n",
              "  <div class=\"colab-df-container\">\n",
              "    <button class=\"colab-df-convert\" onclick=\"convertToInteractive('df-c155e9e9-3e28-437c-951d-27a938958640')\"\n",
              "            title=\"Convert this dataframe to an interactive table.\"\n",
              "            style=\"display:none;\">\n",
              "\n",
              "  <svg xmlns=\"http://www.w3.org/2000/svg\" height=\"24px\" viewBox=\"0 -960 960 960\">\n",
              "    <path d=\"M120-120v-720h720v720H120Zm60-500h600v-160H180v160Zm220 220h160v-160H400v160Zm0 220h160v-160H400v160ZM180-400h160v-160H180v160Zm440 0h160v-160H620v160ZM180-180h160v-160H180v160Zm440 0h160v-160H620v160Z\"/>\n",
              "  </svg>\n",
              "    </button>\n",
              "\n",
              "  <style>\n",
              "    .colab-df-container {\n",
              "      display:flex;\n",
              "      gap: 12px;\n",
              "    }\n",
              "\n",
              "    .colab-df-convert {\n",
              "      background-color: #E8F0FE;\n",
              "      border: none;\n",
              "      border-radius: 50%;\n",
              "      cursor: pointer;\n",
              "      display: none;\n",
              "      fill: #1967D2;\n",
              "      height: 32px;\n",
              "      padding: 0 0 0 0;\n",
              "      width: 32px;\n",
              "    }\n",
              "\n",
              "    .colab-df-convert:hover {\n",
              "      background-color: #E2EBFA;\n",
              "      box-shadow: 0px 1px 2px rgba(60, 64, 67, 0.3), 0px 1px 3px 1px rgba(60, 64, 67, 0.15);\n",
              "      fill: #174EA6;\n",
              "    }\n",
              "\n",
              "    .colab-df-buttons div {\n",
              "      margin-bottom: 4px;\n",
              "    }\n",
              "\n",
              "    [theme=dark] .colab-df-convert {\n",
              "      background-color: #3B4455;\n",
              "      fill: #D2E3FC;\n",
              "    }\n",
              "\n",
              "    [theme=dark] .colab-df-convert:hover {\n",
              "      background-color: #434B5C;\n",
              "      box-shadow: 0px 1px 3px 1px rgba(0, 0, 0, 0.15);\n",
              "      filter: drop-shadow(0px 1px 2px rgba(0, 0, 0, 0.3));\n",
              "      fill: #FFFFFF;\n",
              "    }\n",
              "  </style>\n",
              "\n",
              "    <script>\n",
              "      const buttonEl =\n",
              "        document.querySelector('#df-c155e9e9-3e28-437c-951d-27a938958640 button.colab-df-convert');\n",
              "      buttonEl.style.display =\n",
              "        google.colab.kernel.accessAllowed ? 'block' : 'none';\n",
              "\n",
              "      async function convertToInteractive(key) {\n",
              "        const element = document.querySelector('#df-c155e9e9-3e28-437c-951d-27a938958640');\n",
              "        const dataTable =\n",
              "          await google.colab.kernel.invokeFunction('convertToInteractive',\n",
              "                                                    [key], {});\n",
              "        if (!dataTable) return;\n",
              "\n",
              "        const docLinkHtml = 'Like what you see? Visit the ' +\n",
              "          '<a target=\"_blank\" href=https://colab.research.google.com/notebooks/data_table.ipynb>data table notebook</a>'\n",
              "          + ' to learn more about interactive tables.';\n",
              "        element.innerHTML = '';\n",
              "        dataTable['output_type'] = 'display_data';\n",
              "        await google.colab.output.renderOutput(dataTable, element);\n",
              "        const docLink = document.createElement('div');\n",
              "        docLink.innerHTML = docLinkHtml;\n",
              "        element.appendChild(docLink);\n",
              "      }\n",
              "    </script>\n",
              "  </div>\n",
              "\n",
              "\n",
              "    <div id=\"df-6299a7ef-a08f-493e-9c07-58f8a5d4dc4a\">\n",
              "      <button class=\"colab-df-quickchart\" onclick=\"quickchart('df-6299a7ef-a08f-493e-9c07-58f8a5d4dc4a')\"\n",
              "                title=\"Suggest charts\"\n",
              "                style=\"display:none;\">\n",
              "\n",
              "<svg xmlns=\"http://www.w3.org/2000/svg\" height=\"24px\"viewBox=\"0 0 24 24\"\n",
              "     width=\"24px\">\n",
              "    <g>\n",
              "        <path d=\"M19 3H5c-1.1 0-2 .9-2 2v14c0 1.1.9 2 2 2h14c1.1 0 2-.9 2-2V5c0-1.1-.9-2-2-2zM9 17H7v-7h2v7zm4 0h-2V7h2v10zm4 0h-2v-4h2v4z\"/>\n",
              "    </g>\n",
              "</svg>\n",
              "      </button>\n",
              "\n",
              "<style>\n",
              "  .colab-df-quickchart {\n",
              "      --bg-color: #E8F0FE;\n",
              "      --fill-color: #1967D2;\n",
              "      --hover-bg-color: #E2EBFA;\n",
              "      --hover-fill-color: #174EA6;\n",
              "      --disabled-fill-color: #AAA;\n",
              "      --disabled-bg-color: #DDD;\n",
              "  }\n",
              "\n",
              "  [theme=dark] .colab-df-quickchart {\n",
              "      --bg-color: #3B4455;\n",
              "      --fill-color: #D2E3FC;\n",
              "      --hover-bg-color: #434B5C;\n",
              "      --hover-fill-color: #FFFFFF;\n",
              "      --disabled-bg-color: #3B4455;\n",
              "      --disabled-fill-color: #666;\n",
              "  }\n",
              "\n",
              "  .colab-df-quickchart {\n",
              "    background-color: var(--bg-color);\n",
              "    border: none;\n",
              "    border-radius: 50%;\n",
              "    cursor: pointer;\n",
              "    display: none;\n",
              "    fill: var(--fill-color);\n",
              "    height: 32px;\n",
              "    padding: 0;\n",
              "    width: 32px;\n",
              "  }\n",
              "\n",
              "  .colab-df-quickchart:hover {\n",
              "    background-color: var(--hover-bg-color);\n",
              "    box-shadow: 0 1px 2px rgba(60, 64, 67, 0.3), 0 1px 3px 1px rgba(60, 64, 67, 0.15);\n",
              "    fill: var(--button-hover-fill-color);\n",
              "  }\n",
              "\n",
              "  .colab-df-quickchart-complete:disabled,\n",
              "  .colab-df-quickchart-complete:disabled:hover {\n",
              "    background-color: var(--disabled-bg-color);\n",
              "    fill: var(--disabled-fill-color);\n",
              "    box-shadow: none;\n",
              "  }\n",
              "\n",
              "  .colab-df-spinner {\n",
              "    border: 2px solid var(--fill-color);\n",
              "    border-color: transparent;\n",
              "    border-bottom-color: var(--fill-color);\n",
              "    animation:\n",
              "      spin 1s steps(1) infinite;\n",
              "  }\n",
              "\n",
              "  @keyframes spin {\n",
              "    0% {\n",
              "      border-color: transparent;\n",
              "      border-bottom-color: var(--fill-color);\n",
              "      border-left-color: var(--fill-color);\n",
              "    }\n",
              "    20% {\n",
              "      border-color: transparent;\n",
              "      border-left-color: var(--fill-color);\n",
              "      border-top-color: var(--fill-color);\n",
              "    }\n",
              "    30% {\n",
              "      border-color: transparent;\n",
              "      border-left-color: var(--fill-color);\n",
              "      border-top-color: var(--fill-color);\n",
              "      border-right-color: var(--fill-color);\n",
              "    }\n",
              "    40% {\n",
              "      border-color: transparent;\n",
              "      border-right-color: var(--fill-color);\n",
              "      border-top-color: var(--fill-color);\n",
              "    }\n",
              "    60% {\n",
              "      border-color: transparent;\n",
              "      border-right-color: var(--fill-color);\n",
              "    }\n",
              "    80% {\n",
              "      border-color: transparent;\n",
              "      border-right-color: var(--fill-color);\n",
              "      border-bottom-color: var(--fill-color);\n",
              "    }\n",
              "    90% {\n",
              "      border-color: transparent;\n",
              "      border-bottom-color: var(--fill-color);\n",
              "    }\n",
              "  }\n",
              "</style>\n",
              "\n",
              "      <script>\n",
              "        async function quickchart(key) {\n",
              "          const quickchartButtonEl =\n",
              "            document.querySelector('#' + key + ' button');\n",
              "          quickchartButtonEl.disabled = true;  // To prevent multiple clicks.\n",
              "          quickchartButtonEl.classList.add('colab-df-spinner');\n",
              "          try {\n",
              "            const charts = await google.colab.kernel.invokeFunction(\n",
              "                'suggestCharts', [key], {});\n",
              "          } catch (error) {\n",
              "            console.error('Error during call to suggestCharts:', error);\n",
              "          }\n",
              "          quickchartButtonEl.classList.remove('colab-df-spinner');\n",
              "          quickchartButtonEl.classList.add('colab-df-quickchart-complete');\n",
              "        }\n",
              "        (() => {\n",
              "          let quickchartButtonEl =\n",
              "            document.querySelector('#df-6299a7ef-a08f-493e-9c07-58f8a5d4dc4a button');\n",
              "          quickchartButtonEl.style.display =\n",
              "            google.colab.kernel.accessAllowed ? 'block' : 'none';\n",
              "        })();\n",
              "      </script>\n",
              "    </div>\n",
              "\n",
              "    </div>\n",
              "  </div>\n"
            ],
            "application/vnd.google.colaboratory.intrinsic+json": {
              "type": "dataframe",
              "summary": "{\n  \"name\": \"df_all[['Timestamp', 'Country', 'GHI', 'DNI', 'DHI']]\",\n  \"rows\": 5,\n  \"fields\": [\n    {\n      \"column\": \"Timestamp\",\n      \"properties\": {\n        \"dtype\": \"object\",\n        \"num_unique_values\": 5,\n        \"samples\": [\n          \"2021-08-09 00:02\",\n          \"2021-08-09 00:05\",\n          \"2021-08-09 00:03\"\n        ],\n        \"semantic_type\": \"\",\n        \"description\": \"\"\n      }\n    },\n    {\n      \"column\": \"Country\",\n      \"properties\": {\n        \"dtype\": \"category\",\n        \"num_unique_values\": 1,\n        \"samples\": [\n          \"Benin\"\n        ],\n        \"semantic_type\": \"\",\n        \"description\": \"\"\n      }\n    },\n    {\n      \"column\": \"GHI\",\n      \"properties\": {\n        \"dtype\": \"number\",\n        \"std\": 0.07071067811865474,\n        \"min\": -1.2,\n        \"max\": -1.0,\n        \"num_unique_values\": 3,\n        \"samples\": [\n          -1.2\n        ],\n        \"semantic_type\": \"\",\n        \"description\": \"\"\n      }\n    },\n    {\n      \"column\": \"DNI\",\n      \"properties\": {\n        \"dtype\": \"number\",\n        \"std\": 0.05477225575051661,\n        \"min\": -0.2,\n        \"max\": -0.1,\n        \"num_unique_values\": 2,\n        \"samples\": [\n          -0.1\n        ],\n        \"semantic_type\": \"\",\n        \"description\": \"\"\n      }\n    },\n    {\n      \"column\": \"DHI\",\n      \"properties\": {\n        \"dtype\": \"number\",\n        \"std\": 0.05477225575051666,\n        \"min\": -1.1,\n        \"max\": -1.0,\n        \"num_unique_values\": 2,\n        \"samples\": [\n          -1.0\n        ],\n        \"semantic_type\": \"\",\n        \"description\": \"\"\n      }\n    }\n  ]\n}"
            }
          },
          "metadata": {},
          "execution_count": 92
        }
      ]
    },
    {
      "cell_type": "code",
      "source": [
        "# Set style\n",
        "sns.set(style=\"whitegrid\")\n",
        "\n",
        "# Boxplot for GHI\n",
        "plt.figure(figsize=(10, 5))\n",
        "sns.boxplot(data=df_all, x='Country', y='GHI')\n",
        "plt.title('Global Horizontal Irradiance (GHI) by Country')\n",
        "plt.ylabel('GHI (W/m²)')\n",
        "plt.show()"
      ],
      "metadata": {
        "colab": {
          "base_uri": "https://localhost:8080/",
          "height": 363
        },
        "id": "ILTBb9HT5r7L",
        "outputId": "885cb4ad-bca1-4606-a026-9e9166a4f39e"
      },
      "execution_count": 93,
      "outputs": [
        {
          "output_type": "display_data",
          "data": {
            "text/plain": [
              "<Figure size 1000x500 with 1 Axes>"
            ],
            "image/png": "[encoded data removed]"
          },
          "metadata": {}
        }
      ]
    },
    {
      "cell_type": "markdown",
      "source": [
        "Benin has the highest total solar irradiance on horizontal surfaces → most suitable for solar PV installations.\n",
        "\n",
        "Togo is a close second, also highly suitable.\n",
        "\n",
        "Sierra Leone receives significantly less total irradiance, possibly due to:\n",
        "\n",
        "More cloud cover\n",
        "\n",
        "More humidity\n",
        "\n",
        "Higher latitude or landscape shading"
      ],
      "metadata": {
        "id": "1L0Cx1SPAEQL"
      }
    },
    {
      "cell_type": "code",
      "source": [
        "# Boxplot for DNI\n",
        "plt.figure(figsize=(10, 5))\n",
        "sns.boxplot(data=df_all, x='Country', y='DNI')\n",
        "plt.title('Direct Normal Irradiance (DNI) by Country')\n",
        "plt.ylabel('DNI (W/m²)')\n",
        "plt.show()"
      ],
      "metadata": {
        "colab": {
          "base_uri": "https://localhost:8080/",
          "height": 363
        },
        "id": "f5rSNGhl5ubj",
        "outputId": "19b2d947-496a-4beb-fb3b-51c77bf3ca85"
      },
      "execution_count": 94,
      "outputs": [
        {
          "output_type": "display_data",
          "data": {
            "text/plain": [
              "<Figure size 1000x500 with 1 Axes>"
            ],
            "image/png": "[encoded data removed]"
          },
          "metadata": {}
        }
      ]
    },
    {
      "cell_type": "markdown",
      "source": [
        "Benin is best for concentrated solar systems (e.g., CSP, sun-tracking PV) due to high DNI and GHI.\n",
        "\n",
        "Togo offers great potential for fixed systems, shaded installations, or urban PV where diffuse light matters more.\n",
        "\n",
        "Sierra Leone lags behind in all metrics and may need additional design considerations (e.g., hybrid, battery support)."
      ],
      "metadata": {
        "id": "M72atuY_-vT5"
      }
    },
    {
      "cell_type": "code",
      "source": [
        "# Boxplot for DHI\n",
        "plt.figure(figsize=(10, 5))\n",
        "sns.boxplot(data=df_all, x='Country', y='DHI')\n",
        "plt.title('Diffuse Horizontal Irradiance (DHI) by Country')\n",
        "plt.ylabel('DHI (W/m²)')\n",
        "plt.show()"
      ],
      "metadata": {
        "colab": {
          "base_uri": "https://localhost:8080/",
          "height": 367
        },
        "id": "yCRW60uH52ML",
        "outputId": "56a9c73e-0f1b-4c19-b7e6-0b9e5288dbf4"
      },
      "execution_count": 95,
      "outputs": [
        {
          "output_type": "display_data",
          "data": {
            "text/plain": [
              "<Figure size 1000x500 with 1 Axes>"
            ],
            "image/png": "[encoded data removed]"
          },
          "metadata": {}
        }
      ]
    },
    {
      "cell_type": "markdown",
      "source": [
        "DHI measures the portion of solar radiation that reaches the Earth's surface after being scattered by molecules and particles in the atmosphere, not directly from the sun.Togo has the highest DHI, slightly higher than Benin.\n",
        "\n",
        "Sierra Leone has the lowest DHI among the three.\n",
        "\n",
        "The standard deviations (DHI_std) are quite high, suggesting considerable daily or seasonal variability."
      ],
      "metadata": {
        "id": "qTXbJYDJ_AZb"
      }
    },
    {
      "cell_type": "code",
      "source": [
        "# Define summary metrics\n",
        "metrics = ['GHI', 'DNI', 'DHI']\n",
        "summary = df_all.groupby('Country')[metrics].agg(['mean', 'median', 'std']).round(2)\n",
        "summary.columns = ['_'.join(col) for col in summary.columns]\n",
        "summary"
      ],
      "metadata": {
        "colab": {
          "base_uri": "https://localhost:8080/",
          "height": 212
        },
        "id": "ThHT0Bgn5-3A",
        "outputId": "d2a8ad86-4569-4918-ce33-33bf3eebbeb6"
      },
      "execution_count": 96,
      "outputs": [
        {
          "output_type": "execute_result",
          "data": {
            "text/plain": [
              "              GHI_mean  GHI_median  GHI_std  DNI_mean  DNI_median  DNI_std  \\\n",
              "Country                                                                      \n",
              "Benin           240.56         1.8   331.13    167.19        -0.1   261.71   \n",
              "Sierra Leone    139.54        -0.7   228.10     67.17        -0.1   147.14   \n",
              "Togo            230.56         2.1   322.53    151.26         0.0   250.96   \n",
              "\n",
              "              DHI_mean  DHI_median  DHI_std  \n",
              "Country                                      \n",
              "Benin           115.36         1.6   158.69  \n",
              "Sierra Leone     93.90        -0.9   146.09  \n",
              "Togo            116.44         2.5   156.52  "
            ],
            "text/html": [
              "\n",
              "  <div id=\"df-82de8aa5-00f0-4111-9a92-11b8db522116\" class=\"colab-df-container\">\n",
              "    <div>\n",
              "<style scoped>\n",
              "    .dataframe tbody tr th:only-of-type {\n",
              "        vertical-align: middle;\n",
              "    }\n",
              "\n",
              "    .dataframe tbody tr th {\n",
              "        vertical-align: top;\n",
              "    }\n",
              "\n",
              "    .dataframe thead th {\n",
              "        text-align: right;\n",
              "    }\n",
              "</style>\n",
              "<table border=\"1\" class=\"dataframe\">\n",
              "  <thead>\n",
              "    <tr style=\"text-align: right;\">\n",
              "      <th></th>\n",
              "      <th>GHI_mean</th>\n",
              "      <th>GHI_median</th>\n",
              "      <th>GHI_std</th>\n",
              "      <th>DNI_mean</th>\n",
              "      <th>DNI_median</th>\n",
              "      <th>DNI_std</th>\n",
              "      <th>DHI_mean</th>\n",
              "      <th>DHI_median</th>\n",
              "      <th>DHI_std</th>\n",
              "    </tr>\n",
              "    <tr>\n",
              "      <th>Country</th>\n",
              "      <th></th>\n",
              "      <th></th>\n",
              "      <th></th>\n",
              "      <th></th>\n",
              "      <th></th>\n",
              "      <th></th>\n",
              "      <th></th>\n",
              "      <th></th>\n",
              "      <th></th>\n",
              "    </tr>\n",
              "  </thead>\n",
              "  <tbody>\n",
              "    <tr>\n",
              "      <th>Benin</th>\n",
              "      <td>240.56</td>\n",
              "      <td>1.8</td>\n",
              "      <td>331.13</td>\n",
              "      <td>167.19</td>\n",
              "      <td>-0.1</td>\n",
              "      <td>261.71</td>\n",
              "      <td>115.36</td>\n",
              "      <td>1.6</td>\n",
              "      <td>158.69</td>\n",
              "    </tr>\n",
              "    <tr>\n",
              "      <th>Sierra Leone</th>\n",
              "      <td>139.54</td>\n",
              "      <td>-0.7</td>\n",
              "      <td>228.10</td>\n",
              "      <td>67.17</td>\n",
              "      <td>-0.1</td>\n",
              "      <td>147.14</td>\n",
              "      <td>93.90</td>\n",
              "      <td>-0.9</td>\n",
              "      <td>146.09</td>\n",
              "    </tr>\n",
              "    <tr>\n",
              "      <th>Togo</th>\n",
              "      <td>230.56</td>\n",
              "      <td>2.1</td>\n",
              "      <td>322.53</td>\n",
              "      <td>151.26</td>\n",
              "      <td>0.0</td>\n",
              "      <td>250.96</td>\n",
              "      <td>116.44</td>\n",
              "      <td>2.5</td>\n",
              "      <td>156.52</td>\n",
              "    </tr>\n",
              "  </tbody>\n",
              "</table>\n",
              "</div>\n",
              "    <div class=\"colab-df-buttons\">\n",
              "\n",
              "  <div class=\"colab-df-container\">\n",
              "    <button class=\"colab-df-convert\" onclick=\"convertToInteractive('df-82de8aa5-00f0-4111-9a92-11b8db522116')\"\n",
              "            title=\"Convert this dataframe to an interactive table.\"\n",
              "            style=\"display:none;\">\n",
              "\n",
              "  <svg xmlns=\"http://www.w3.org/2000/svg\" height=\"24px\" viewBox=\"0 -960 960 960\">\n",
              "    <path d=\"M120-120v-720h720v720H120Zm60-500h600v-160H180v160Zm220 220h160v-160H400v160Zm0 220h160v-160H400v160ZM180-400h160v-160H180v160Zm440 0h160v-160H620v160ZM180-180h160v-160H180v160Zm440 0h160v-160H620v160Z\"/>\n",
              "  </svg>\n",
              "    </button>\n",
              "\n",
              "  <style>\n",
              "    .colab-df-container {\n",
              "      display:flex;\n",
              "      gap: 12px;\n",
              "    }\n",
              "\n",
              "    .colab-df-convert {\n",
              "      background-color: #E8F0FE;\n",
              "      border: none;\n",
              "      border-radius: 50%;\n",
              "      cursor: pointer;\n",
              "      display: none;\n",
              "      fill: #1967D2;\n",
              "      height: 32px;\n",
              "      padding: 0 0 0 0;\n",
              "      width: 32px;\n",
              "    }\n",
              "\n",
              "    .colab-df-convert:hover {\n",
              "      background-color: #E2EBFA;\n",
              "      box-shadow: 0px 1px 2px rgba(60, 64, 67, 0.3), 0px 1px 3px 1px rgba(60, 64, 67, 0.15);\n",
              "      fill: #174EA6;\n",
              "    }\n",
              "\n",
              "    .colab-df-buttons div {\n",
              "      margin-bottom: 4px;\n",
              "    }\n",
              "\n",
              "    [theme=dark] .colab-df-convert {\n",
              "      background-color: #3B4455;\n",
              "      fill: #D2E3FC;\n",
              "    }\n",
              "\n",
              "    [theme=dark] .colab-df-convert:hover {\n",
              "      background-color: #434B5C;\n",
              "      box-shadow: 0px 1px 3px 1px rgba(0, 0, 0, 0.15);\n",
              "      filter: drop-shadow(0px 1px 2px rgba(0, 0, 0, 0.3));\n",
              "      fill: #FFFFFF;\n",
              "    }\n",
              "  </style>\n",
              "\n",
              "    <script>\n",
              "      const buttonEl =\n",
              "        document.querySelector('#df-82de8aa5-00f0-4111-9a92-11b8db522116 button.colab-df-convert');\n",
              "      buttonEl.style.display =\n",
              "        google.colab.kernel.accessAllowed ? 'block' : 'none';\n",
              "\n",
              "      async function convertToInteractive(key) {\n",
              "        const element = document.querySelector('#df-82de8aa5-00f0-4111-9a92-11b8db522116');\n",
              "        const dataTable =\n",
              "          await google.colab.kernel.invokeFunction('convertToInteractive',\n",
              "                                                    [key], {});\n",
              "        if (!dataTable) return;\n",
              "\n",
              "        const docLinkHtml = 'Like what you see? Visit the ' +\n",
              "          '<a target=\"_blank\" href=https://colab.research.google.com/notebooks/data_table.ipynb>data table notebook</a>'\n",
              "          + ' to learn more about interactive tables.';\n",
              "        element.innerHTML = '';\n",
              "        dataTable['output_type'] = 'display_data';\n",
              "        await google.colab.output.renderOutput(dataTable, element);\n",
              "        const docLink = document.createElement('div');\n",
              "        docLink.innerHTML = docLinkHtml;\n",
              "        element.appendChild(docLink);\n",
              "      }\n",
              "    </script>\n",
              "  </div>\n",
              "\n",
              "\n",
              "    <div id=\"df-b2c79e42-f0ef-44ba-9393-dc413751a2cc\">\n",
              "      <button class=\"colab-df-quickchart\" onclick=\"quickchart('df-b2c79e42-f0ef-44ba-9393-dc413751a2cc')\"\n",
              "                title=\"Suggest charts\"\n",
              "                style=\"display:none;\">\n",
              "\n",
              "<svg xmlns=\"http://www.w3.org/2000/svg\" height=\"24px\"viewBox=\"0 0 24 24\"\n",
              "     width=\"24px\">\n",
              "    <g>\n",
              "        <path d=\"M19 3H5c-1.1 0-2 .9-2 2v14c0 1.1.9 2 2 2h14c1.1 0 2-.9 2-2V5c0-1.1-.9-2-2-2zM9 17H7v-7h2v7zm4 0h-2V7h2v10zm4 0h-2v-4h2v4z\"/>\n",
              "    </g>\n",
              "</svg>\n",
              "      </button>\n",
              "\n",
              "<style>\n",
              "  .colab-df-quickchart {\n",
              "      --bg-color: #E8F0FE;\n",
              "      --fill-color: #1967D2;\n",
              "      --hover-bg-color: #E2EBFA;\n",
              "      --hover-fill-color: #174EA6;\n",
              "      --disabled-fill-color: #AAA;\n",
              "      --disabled-bg-color: #DDD;\n",
              "  }\n",
              "\n",
              "  [theme=dark] .colab-df-quickchart {\n",
              "      --bg-color: #3B4455;\n",
              "      --fill-color: #D2E3FC;\n",
              "      --hover-bg-color: #434B5C;\n",
              "      --hover-fill-color: #FFFFFF;\n",
              "      --disabled-bg-color: #3B4455;\n",
              "      --disabled-fill-color: #666;\n",
              "  }\n",
              "\n",
              "  .colab-df-quickchart {\n",
              "    background-color: var(--bg-color);\n",
              "    border: none;\n",
              "    border-radius: 50%;\n",
              "    cursor: pointer;\n",
              "    display: none;\n",
              "    fill: var(--fill-color);\n",
              "    height: 32px;\n",
              "    padding: 0;\n",
              "    width: 32px;\n",
              "  }\n",
              "\n",
              "  .colab-df-quickchart:hover {\n",
              "    background-color: var(--hover-bg-color);\n",
              "    box-shadow: 0 1px 2px rgba(60, 64, 67, 0.3), 0 1px 3px 1px rgba(60, 64, 67, 0.15);\n",
              "    fill: var(--button-hover-fill-color);\n",
              "  }\n",
              "\n",
              "  .colab-df-quickchart-complete:disabled,\n",
              "  .colab-df-quickchart-complete:disabled:hover {\n",
              "    background-color: var(--disabled-bg-color);\n",
              "    fill: var(--disabled-fill-color);\n",
              "    box-shadow: none;\n",
              "  }\n",
              "\n",
              "  .colab-df-spinner {\n",
              "    border: 2px solid var(--fill-color);\n",
              "    border-color: transparent;\n",
              "    border-bottom-color: var(--fill-color);\n",
              "    animation:\n",
              "      spin 1s steps(1) infinite;\n",
              "  }\n",
              "\n",
              "  @keyframes spin {\n",
              "    0% {\n",
              "      border-color: transparent;\n",
              "      border-bottom-color: var(--fill-color);\n",
              "      border-left-color: var(--fill-color);\n",
              "    }\n",
              "    20% {\n",
              "      border-color: transparent;\n",
              "      border-left-color: var(--fill-color);\n",
              "      border-top-color: var(--fill-color);\n",
              "    }\n",
              "    30% {\n",
              "      border-color: transparent;\n",
              "      border-left-color: var(--fill-color);\n",
              "      border-top-color: var(--fill-color);\n",
              "      border-right-color: var(--fill-color);\n",
              "    }\n",
              "    40% {\n",
              "      border-color: transparent;\n",
              "      border-right-color: var(--fill-color);\n",
              "      border-top-color: var(--fill-color);\n",
              "    }\n",
              "    60% {\n",
              "      border-color: transparent;\n",
              "      border-right-color: var(--fill-color);\n",
              "    }\n",
              "    80% {\n",
              "      border-color: transparent;\n",
              "      border-right-color: var(--fill-color);\n",
              "      border-bottom-color: var(--fill-color);\n",
              "    }\n",
              "    90% {\n",
              "      border-color: transparent;\n",
              "      border-bottom-color: var(--fill-color);\n",
              "    }\n",
              "  }\n",
              "</style>\n",
              "\n",
              "      <script>\n",
              "        async function quickchart(key) {\n",
              "          const quickchartButtonEl =\n",
              "            document.querySelector('#' + key + ' button');\n",
              "          quickchartButtonEl.disabled = true;  // To prevent multiple clicks.\n",
              "          quickchartButtonEl.classList.add('colab-df-spinner');\n",
              "          try {\n",
              "            const charts = await google.colab.kernel.invokeFunction(\n",
              "                'suggestCharts', [key], {});\n",
              "          } catch (error) {\n",
              "            console.error('Error during call to suggestCharts:', error);\n",
              "          }\n",
              "          quickchartButtonEl.classList.remove('colab-df-spinner');\n",
              "          quickchartButtonEl.classList.add('colab-df-quickchart-complete');\n",
              "        }\n",
              "        (() => {\n",
              "          let quickchartButtonEl =\n",
              "            document.querySelector('#df-b2c79e42-f0ef-44ba-9393-dc413751a2cc button');\n",
              "          quickchartButtonEl.style.display =\n",
              "            google.colab.kernel.accessAllowed ? 'block' : 'none';\n",
              "        })();\n",
              "      </script>\n",
              "    </div>\n",
              "\n",
              "  <div id=\"id_19deddc7-f214-4e5a-b88c-e90ba8283b4f\">\n",
              "    <style>\n",
              "      .colab-df-generate {\n",
              "        background-color: #E8F0FE;\n",
              "        border: none;\n",
              "        border-radius: 50%;\n",
              "        cursor: pointer;\n",
              "        display: none;\n",
              "        fill: #1967D2;\n",
              "        height: 32px;\n",
              "        padding: 0 0 0 0;\n",
              "        width: 32px;\n",
              "      }\n",
              "\n",
              "      .colab-df-generate:hover {\n",
              "        background-color: #E2EBFA;\n",
              "        box-shadow: 0px 1px 2px rgba(60, 64, 67, 0.3), 0px 1px 3px 1px rgba(60, 64, 67, 0.15);\n",
              "        fill: #174EA6;\n",
              "      }\n",
              "\n",
              "      [theme=dark] .colab-df-generate {\n",
              "        background-color: #3B4455;\n",
              "        fill: #D2E3FC;\n",
              "      }\n",
              "\n",
              "      [theme=dark] .colab-df-generate:hover {\n",
              "        background-color: #434B5C;\n",
              "        box-shadow: 0px 1px 3px 1px rgba(0, 0, 0, 0.15);\n",
              "        filter: drop-shadow(0px 1px 2px rgba(0, 0, 0, 0.3));\n",
              "        fill: #FFFFFF;\n",
              "      }\n",
              "    </style>\n",
              "    <button class=\"colab-df-generate\" onclick=\"generateWithVariable('summary')\"\n",
              "            title=\"Generate code using this dataframe.\"\n",
              "            style=\"display:none;\">\n",
              "\n",
              "  <svg xmlns=\"http://www.w3.org/2000/svg\" height=\"24px\"viewBox=\"0 0 24 24\"\n",
              "       width=\"24px\">\n",
              "    <path d=\"M7,19H8.4L18.45,9,17,7.55,7,17.6ZM5,21V16.75L18.45,3.32a2,2,0,0,1,2.83,0l1.4,1.43a1.91,1.91,0,0,1,.58,1.4,1.91,1.91,0,0,1-.58,1.4L9.25,21ZM18.45,9,17,7.55Zm-12,3A5.31,5.31,0,0,0,4.9,8.1,5.31,5.31,0,0,0,1,6.5,5.31,5.31,0,0,0,4.9,4.9,5.31,5.31,0,0,0,6.5,1,5.31,5.31,0,0,0,8.1,4.9,5.31,5.31,0,0,0,12,6.5,5.46,5.46,0,0,0,6.5,12Z\"/>\n",
              "  </svg>\n",
              "    </button>\n",
              "    <script>\n",
              "      (() => {\n",
              "      const buttonEl =\n",
              "        document.querySelector('#id_19deddc7-f214-4e5a-b88c-e90ba8283b4f button.colab-df-generate');\n",
              "      buttonEl.style.display =\n",
              "        google.colab.kernel.accessAllowed ? 'block' : 'none';\n",
              "\n",
              "      buttonEl.onclick = () => {\n",
              "        google.colab.notebook.generateWithVariable('summary');\n",
              "      }\n",
              "      })();\n",
              "    </script>\n",
              "  </div>\n",
              "\n",
              "    </div>\n",
              "  </div>\n"
            ],
            "application/vnd.google.colaboratory.intrinsic+json": {
              "type": "dataframe",
              "variable_name": "summary",
              "summary": "{\n  \"name\": \"summary\",\n  \"rows\": 3,\n  \"fields\": [\n    {\n      \"column\": \"Country\",\n      \"properties\": {\n        \"dtype\": \"string\",\n        \"num_unique_values\": 3,\n        \"samples\": [\n          \"Benin\",\n          \"Sierra Leone\",\n          \"Togo\"\n        ],\n        \"semantic_type\": \"\",\n        \"description\": \"\"\n      }\n    },\n    {\n      \"column\": \"GHI_mean\",\n      \"properties\": {\n        \"dtype\": \"number\",\n        \"std\": 55.66219662691488,\n        \"min\": 139.54,\n        \"max\": 240.56,\n        \"num_unique_values\": 3,\n        \"samples\": [\n          240.56,\n          139.54,\n          230.56\n        ],\n        \"semantic_type\": \"\",\n        \"description\": \"\"\n      }\n    },\n    {\n      \"column\": \"GHI_median\",\n      \"properties\": {\n        \"dtype\": \"number\",\n        \"std\": 1.537313674346694,\n        \"min\": -0.7,\n        \"max\": 2.1,\n        \"num_unique_values\": 3,\n        \"samples\": [\n          1.8,\n          -0.7,\n          2.1\n        ],\n        \"semantic_type\": \"\",\n        \"description\": \"\"\n      }\n    },\n    {\n      \"column\": \"GHI_std\",\n      \"properties\": {\n        \"dtype\": \"number\",\n        \"std\": 57.16374987699809,\n        \"min\": 228.1,\n        \"max\": 331.13,\n        \"num_unique_values\": 3,\n        \"samples\": [\n          331.13,\n          228.1,\n          322.53\n        ],\n        \"semantic_type\": \"\",\n        \"description\": \"\"\n      }\n    },\n    {\n      \"column\": \"DNI_mean\",\n      \"properties\": {\n        \"dtype\": \"number\",\n        \"std\": 53.7415007233702,\n        \"min\": 67.17,\n        \"max\": 167.19,\n        \"num_unique_values\": 3,\n        \"samples\": [\n          167.19,\n          67.17,\n          151.26\n        ],\n        \"semantic_type\": \"\",\n        \"description\": \"\"\n      }\n    },\n    {\n      \"column\": \"DNI_median\",\n      \"properties\": {\n        \"dtype\": \"number\",\n        \"std\": 0.05773502691896258,\n        \"min\": -0.1,\n        \"max\": 0.0,\n        \"num_unique_values\": 2,\n        \"samples\": [\n          0.0,\n          -0.1\n        ],\n        \"semantic_type\": \"\",\n        \"description\": \"\"\n      }\n    },\n    {\n      \"column\": \"DNI_std\",\n      \"properties\": {\n        \"dtype\": \"number\",\n        \"std\": 63.2724792728508,\n        \"min\": 147.14,\n        \"max\": 261.71,\n        \"num_unique_values\": 3,\n        \"samples\": [\n          261.71,\n          147.14\n        ],\n        \"semantic_type\": \"\",\n        \"description\": \"\"\n      }\n    },\n    {\n      \"column\": \"DHI_mean\",\n      \"properties\": {\n        \"dtype\": \"number\",\n        \"std\": 12.713179513140417,\n        \"min\": 93.9,\n        \"max\": 116.44,\n        \"num_unique_values\": 3,\n        \"samples\": [\n          115.36,\n          93.9\n        ],\n        \"semantic_type\": \"\",\n        \"description\": \"\"\n      }\n    },\n    {\n      \"column\": \"DHI_median\",\n      \"properties\": {\n        \"dtype\": \"number\",\n        \"std\": 1.7616280348965083,\n        \"min\": -0.9,\n        \"max\": 2.5,\n        \"num_unique_values\": 3,\n        \"samples\": [\n          1.6,\n          -0.9\n        ],\n        \"semantic_type\": \"\",\n        \"description\": \"\"\n      }\n    },\n    {\n      \"column\": \"DHI_std\",\n      \"properties\": {\n        \"dtype\": \"number\",\n        \"std\": 6.736143802898905,\n        \"min\": 146.09,\n        \"max\": 158.69,\n        \"num_unique_values\": 3,\n        \"samples\": [\n          158.69,\n          146.09\n        ],\n        \"semantic_type\": \"\",\n        \"description\": \"\"\n      }\n    }\n  ]\n}"
            }
          },
          "metadata": {},
          "execution_count": 96
        }
      ]
    },
    {
      "cell_type": "markdown",
      "source": [
        "Benin: Best overall solar resource — highest GHI.\n",
        "\n",
        "Togo: Very good solar potential — high GHI, especially strong DHI (good for cloudy-day performance).\n",
        "\n",
        "Sierra Leone: Least favorable for solar energy, but still viable with proper design (e.g., hybrid systems)."
      ],
      "metadata": {
        "id": "ImVB-ejh-RIS"
      }
    },
    {
      "cell_type": "markdown",
      "source": [],
      "metadata": {
        "id": "aDPM7Y7t9uwY"
      }
    },
    {
      "source": [
        "# One-Way ANOVA for GHI\n",
        "ghi_benin = benin_df['GHI'].dropna()\n",
        "ghi_togo = togo_df['GHI'].dropna()\n",
        "ghi_sl = sl_df['GHI'].dropna()\n",
        "\n",
        "# Import the stats module from scipy\n",
        "from scipy import stats\n",
        "\n",
        "# Use ANOVA (if data is normal) or Kruskal-Wallis (non-parametric)\n",
        "anova_result = stats.f_oneway(ghi_benin, ghi_togo, ghi_sl)\n",
        "kruskal_result = stats.kruskal(ghi_benin, ghi_togo, ghi_sl)\n",
        "\n",
        "print(\"One-Way ANOVA p-value:\", anova_result.pvalue)\n",
        "print(\"Kruskal–Wallis p-value:\", kruskal_result.pvalue)"
      ],
      "cell_type": "code",
      "metadata": {
        "colab": {
          "base_uri": "https://localhost:8080/"
        },
        "id": "iYKUwOh46Pih",
        "outputId": "8698f7ba-28f9-4cc6-e0ac-58bd28c0bde6"
      },
      "execution_count": 97,
      "outputs": [
        {
          "output_type": "stream",
          "name": "stdout",
          "text": [
            "One-Way ANOVA p-value: 0.0\n",
            "Kruskal–Wallis p-value: 0.0\n"
          ]
        }
      ]
    },
    {
      "cell_type": "markdown",
      "source": [
        "Both p-values are 0.0 (i.e., extremely small), meaning the differences in irradiance between countries are statistically significant.\n",
        "\n",
        "This confirms that the differences in average solar radiation (like GHI, DNI, DHI) are not due to random variation — the countries genuinely differ in solar energy potential."
      ],
      "metadata": {
        "id": "Z1KQA4NF9xul"
      }
    },
    {
      "cell_type": "code",
      "source": [
        "avg_ghi = df_all.groupby('Country')['GHI'].mean().sort_values(ascending=False)\n",
        "\n",
        "plt.figure(figsize=(8, 5))\n",
        "sns.barplot(x=avg_ghi.index, y=avg_ghi.values, palette=\"viridis\")\n",
        "plt.title('Average GHI by Country')\n",
        "plt.ylabel('Average GHI (W/m²)')\n",
        "plt.xlabel('Country')\n",
        "plt.tight_layout()\n",
        "plt.show()\n"
      ],
      "metadata": {
        "colab": {
          "base_uri": "https://localhost:8080/",
          "height": 512
        },
        "id": "7YUYdLPY6Sl_",
        "outputId": "4b80838e-625e-4fd2-b481-14fbce4cde5d"
      },
      "execution_count": 98,
      "outputs": [
        {
          "output_type": "stream",
          "name": "stderr",
          "text": [
            "<ipython-input-98-256a5bb84af7>:4: FutureWarning: \n",
            "\n",
            "Passing `palette` without assigning `hue` is deprecated and will be removed in v0.14.0. Assign the `x` variable to `hue` and set `legend=False` for the same effect.\n",
            "\n",
            "  sns.barplot(x=avg_ghi.index, y=avg_ghi.values, palette=\"viridis\")\n"
          ]
        },
        {
          "output_type": "display_data",
          "data": {
            "text/plain": [
              "<Figure size 800x500 with 1 Axes>"
            ],
            "image/png": "[encoded data removed]"
          },
          "metadata": {}
        }
      ]
    },
    {
      "cell_type": "markdown",
      "source": [
        "GHI represents the total solar radiation received per unit area on a horizontal surface. The average GHI (GHI_mean) shows how much solar energy is available, on average, at a location.Benin has the highest average GHI, followed closely by Togo, while Sierra Leone has significantly lower solar energy potential.\n",
        "\n",
        "# This means Benin and Togo are better suited for solar energy harvesting than Sierra Leone, at least in terms of average available irradiance."
      ],
      "metadata": {
        "id": "Q-9WGKFe-AmS"
      }
    }
  ]
}